{
  "nbformat": 4,
  "nbformat_minor": 0,
  "metadata": {
    "colab": {
      "name": "Copy of KM-05: Functions, OOP, Time Complexity .ipynb",
      "provenance": [],
      "collapsed_sections": [
        "Le8N3SLcbiAd",
        "SLOP8yGkbpLO",
        "3WbfqdEWbtsl",
        "jxicmjLxkXCa",
        "K_u-Dtb6kcBm",
        "xf3ylfGtB8qY",
        "jnWbKwkPSFhc",
        "PfFqBZCeUXpk",
        "rrRrJFk6ZunZ",
        "b61nC_DYbE7c",
        "uFqTE508meLL"
      ]
    },
    "kernelspec": {
      "name": "python3",
      "display_name": "Python 3"
    },
    "language_info": {
      "name": "python"
    },
    "accelerator": "GPU"
  },
  "cells": [
    {
      "cell_type": "markdown",
      "metadata": {
        "id": "Le8N3SLcbiAd"
      },
      "source": [
        "# **Fungsi**"
      ]
    },
    {
      "cell_type": "code",
      "metadata": {
        "colab": {
          "base_uri": "https://localhost:8080/"
        },
        "id": "ywDbPVukTDYd",
        "outputId": "61a611da-5e68-4e97-d7a6-6b781bd9774e"
      },
      "source": [
        "## Deklarasi Fungsi\n",
        "def cetak(x):\n",
        "  print(x)\n",
        "\n",
        "# Memanggil Fungsi\n",
        "cetak(\"wokee\")"
      ],
      "execution_count": null,
      "outputs": [
        {
          "output_type": "stream",
          "name": "stdout",
          "text": [
            "wokee\n"
          ]
        }
      ]
    },
    {
      "cell_type": "code",
      "metadata": {
        "colab": {
          "base_uri": "https://localhost:8080/"
        },
        "id": "RipUgd0NTdjo",
        "outputId": "344ba08b-ccbc-4b78-f2c7-6c43f7457963"
      },
      "source": [
        "# Deklarasi Fungsi dengan pengembalian\n",
        "def tambah(a, b):\n",
        "  return a + b;\n",
        "\n",
        "# Memanggil Fungsi\n",
        "print(tambah(2, 3))"
      ],
      "execution_count": null,
      "outputs": [
        {
          "output_type": "stream",
          "name": "stdout",
          "text": [
            "5\n"
          ]
        }
      ]
    },
    {
      "cell_type": "code",
      "metadata": {
        "id": "9r0oXaTxVRvi"
      },
      "source": [
        "def nama_fungsi(arg1, arg2, ...):\n",
        "  # isi fungsi\n",
        "\n",
        "def fungsi_dengan_pengembalian(arg1, arg2, ...):\n",
        "  # isi fungsi\n",
        "  return 'sesuatu'"
      ],
      "execution_count": null,
      "outputs": []
    },
    {
      "cell_type": "markdown",
      "metadata": {
        "id": "SLOP8yGkbpLO"
      },
      "source": [
        "# **Method**"
      ]
    },
    {
      "cell_type": "code",
      "metadata": {
        "id": "P_Z6c_AYWi71"
      },
      "source": [
        "class NamaClass:\n",
        "  def nama_method(arg1, arg2, ...):\n",
        "    # isi method"
      ],
      "execution_count": null,
      "outputs": []
    },
    {
      "cell_type": "code",
      "metadata": {
        "colab": {
          "base_uri": "https://localhost:8080/"
        },
        "id": "uh927B9_W0N1",
        "outputId": "d01f409a-6bec-4a9a-c4fc-99db3c042834"
      },
      "source": [
        "# Deklarasi Object (Class)\n",
        "class Kucing(object):\n",
        "  def meong(self):\n",
        "    print(\"meeooong\")\n",
        "\n",
        "# Memanggil method\n",
        "cat = Kucing()\n",
        "cat.meong()"
      ],
      "execution_count": null,
      "outputs": [
        {
          "output_type": "stream",
          "name": "stdout",
          "text": [
            "meeooong\n"
          ]
        }
      ]
    },
    {
      "cell_type": "markdown",
      "metadata": {
        "id": "3WbfqdEWbtsl"
      },
      "source": [
        "# **Lambda Expression**"
      ]
    },
    {
      "cell_type": "code",
      "metadata": {
        "colab": {
          "base_uri": "https://localhost:8080/"
        },
        "id": "wmZuN2s7ZzAZ",
        "outputId": "41eafcb5-3e69-49eb-ada0-790b87fe9582"
      },
      "source": [
        "# Lambda expression\n",
        "tambah = lambda a, b: (a + b)\n",
        "print(tambah(2, 3))"
      ],
      "execution_count": null,
      "outputs": [
        {
          "output_type": "stream",
          "name": "stdout",
          "text": [
            "5\n"
          ]
        }
      ]
    },
    {
      "cell_type": "markdown",
      "metadata": {
        "id": "jxicmjLxkXCa"
      },
      "source": [
        "# **Object Oriented Programming**"
      ]
    },
    {
      "cell_type": "markdown",
      "metadata": {
        "id": "K_u-Dtb6kcBm"
      },
      "source": [
        "## **Encapsulation**"
      ]
    },
    {
      "cell_type": "code",
      "metadata": {
        "colab": {
          "base_uri": "https://localhost:8080/"
        },
        "id": "9-CEKFKYm2AA",
        "outputId": "d6e8487e-665a-4846-8a02-9409bba3cb9a"
      },
      "source": [
        "nama = \"cemong\"\n",
        "usia = 1\n",
        "warna = \"putih coklat muda\"\n",
        "jenis = \"anggora\"\n",
        "\n",
        "def meongg():\n",
        "  print(\"meeeoonnggg... \")\n",
        "\n",
        "def info_kucing(nama, usia, warna, jenis):\n",
        "  print(f\"nama: {nama}, usia: {usia}, warna: {warna}, jenis: {jenis}\")\n",
        "\n",
        "info_kucing(nama, usia, warna, jenis)\n",
        "\n",
        "\n",
        "class Kucing:\n",
        "  def __init__(self, nama, usia, warna, jenis):\n",
        "    self.nama = nama\n",
        "    self.usia = usia\n",
        "    self.warna = warna\n",
        "    self.jenis = jenis\n",
        "\n",
        "  def myfunc(self):\n",
        "    print(\"Hello my name is \" + self.nama)\n",
        "  \n",
        "  def meong(self):\n",
        "    print(\"meeeoonnggg... \")\n",
        "\n",
        "  def info(self):\n",
        "    print(f\"nama: {self.nama}, usia: {self.usia}, warna: {self.warna}, jenis: {self.jenis}\")\n",
        "\n",
        "\n",
        "kucing1 = Kucing(\"cemong\", 1, \"putih coklat muda\", \"anggora\")\n",
        "\n",
        "kucing1.info()"
      ],
      "execution_count": null,
      "outputs": [
        {
          "output_type": "stream",
          "name": "stdout",
          "text": [
            "nama: cemong, usia: 1, warna: putih coklat muda, jenis: anggora\n",
            "nama: cemong, usia: 1, warna: putih coklat muda, jenis: anggora\n"
          ]
        }
      ]
    },
    {
      "cell_type": "markdown",
      "metadata": {
        "id": "Xpt9Lz6vqN-z"
      },
      "source": [
        "## **Abstraction**"
      ]
    },
    {
      "cell_type": "code",
      "metadata": {
        "colab": {
          "base_uri": "https://localhost:8080/"
        },
        "id": "fwa_TEf-v_8f",
        "outputId": "8d47f0b4-f2ce-4847-f785-77e0b30a5afc"
      },
      "source": [
        "# Memanggil method dari objek tanpa harus mengetahui cara kerja method\n",
        "kucing1.myfunc()"
      ],
      "execution_count": null,
      "outputs": [
        {
          "output_type": "stream",
          "name": "stdout",
          "text": [
            "Hello my name is cemong\n"
          ]
        }
      ]
    },
    {
      "cell_type": "markdown",
      "metadata": {
        "id": "wBoEkCxewdrg"
      },
      "source": [
        "## **Inheritence**"
      ]
    },
    {
      "cell_type": "code",
      "metadata": {
        "colab": {
          "base_uri": "https://localhost:8080/"
        },
        "id": "HsVgKNgowiRP",
        "outputId": "10e4cdcd-e74e-498e-de12-d340f8f940da"
      },
      "source": [
        "class Binatang(object):\n",
        "  def __init__(self, nama, usia, jenis, mamalia):\n",
        "    self.nama = nama\n",
        "    self.usia = usia\n",
        "    self.jenis = jenis\n",
        "    self.mamalia = mamalia\n",
        "\n",
        "  def tidur(self, durasi):\n",
        "    for x in range(durasi):\n",
        "      print(\"ddrrr... ddrrr... \")\n",
        "\n",
        "  def info(self):\n",
        "    print(f\"nama: {self.nama}, usia: {self.usia}, jenis: {self.jenis}, mamalia: {self.mamalia}\")\n",
        "\n",
        "\n",
        "animal1 = Binatang(\"cemong\", 1, \"omnivora\", True)\n",
        "\n",
        "animal1.info()\n",
        "\n",
        "class Kucing(Binatang):\n",
        "  def __init__(self,  nama, usia, jenis, mamalia, warna, jenis_kucing):\n",
        "    super().__init__(nama, usia, jenis, mamalia)\n",
        "    self.warna = warna\n",
        "    self.jenis_kucing = jenis_kucing\n",
        "  \n",
        "  def meong(self):\n",
        "    print(\"meeeonnggg\")\n",
        "\n",
        "  def info_kucing(self):\n",
        "    print(f\"warna: {self.warna}, jenis kucing: {self.jenis_kucing}\")\n",
        "\n",
        "cat1 = Kucing(\"cemong\", 1, \"omnivora\", True, \"putih coklat muda\", \"anggora\")\n",
        "\n",
        "cat1.info()\n",
        "cat1.info_kucing()"
      ],
      "execution_count": null,
      "outputs": [
        {
          "output_type": "stream",
          "name": "stdout",
          "text": [
            "nama: cemong, usia: 1, jenis: omnivora, mamalia: True\n",
            "nama: cemong, usia: 1, jenis: omnivora, mamalia: True\n",
            "warna: putih coklat muda, jenis kucing: anggora\n"
          ]
        }
      ]
    },
    {
      "cell_type": "markdown",
      "metadata": {
        "id": "lLLHjBNp1HDe"
      },
      "source": [
        "## **Polymorphism**"
      ]
    },
    {
      "cell_type": "code",
      "metadata": {
        "colab": {
          "base_uri": "https://localhost:8080/"
        },
        "id": "BZLA6LDrxDHr",
        "outputId": "2896dee8-296e-40f4-df0c-0f0ebef29e93"
      },
      "source": [
        "class Ikan(Binatang):\n",
        "  def __init__(self,  nama, usia, jenis, mamalia, warna, jenis_air, jenis_ikan):\n",
        "    super().__init__(nama, usia, jenis, mamalia)\n",
        "    self.warna = warna\n",
        "    self.jenis_air = jenis_air\n",
        "    self.jenis_ikan = jenis_ikan\n",
        "  \n",
        "  def berenang(self, durasi):\n",
        "    print(\"wushh... wush... \")\n",
        "\n",
        "  def info_ikan(self):\n",
        "    print(f\"warna: {self.warna}, jenis ikan: {self.jenis_ikan}, jenis air: {self.jenis_air}\")\n",
        "\n",
        "fish1 = Ikan(\"Jago\", 2, \"omnivora\", False, \"Merah Putih\", \"Tawar\", \"Cupang\")\n",
        "\n",
        "fish1.info()\n",
        "fish1.info_ikan()\n",
        "fish1.berenang(0)\n",
        "fish1.tidur(5)"
      ],
      "execution_count": null,
      "outputs": [
        {
          "output_type": "stream",
          "name": "stdout",
          "text": [
            "nama: Jago, usia: 2, jenis: omnivora, mamalia: False\n",
            "warna: Merah Putih, jenis ikan: Cupang, jenis air: Tawar\n",
            "wushh... wush... \n",
            "ddrrr... ddrrr... \n",
            "ddrrr... ddrrr... \n",
            "ddrrr... ddrrr... \n",
            "ddrrr... ddrrr... \n",
            "ddrrr... ddrrr... \n"
          ]
        }
      ]
    },
    {
      "cell_type": "markdown",
      "metadata": {
        "id": "bse6mJ62GOR1"
      },
      "source": [
        "## **Activity OOP**\n",
        "\n",
        "Buatlah 3 OOP beserta turunannya dari objek sekitar, buat ulang seperti yang diatas (encapsulation, abstaction, inheritance, polymorphism)"
      ]
    },
    {
      "cell_type": "markdown",
      "metadata": {
        "id": "xf3ylfGtB8qY"
      },
      "source": [
        "# **Time Complexity**\n",
        "## Activity \n",
        "\n",
        "Hitung time complexity dengan bigO Notation pada algoritma berikut:\n",
        "\n",
        "* Tidak perlu di run"
      ]
    },
    {
      "cell_type": "code",
      "metadata": {
        "colab": {
          "base_uri": "https://localhost:8080/"
        },
        "id": "fnk4oJoJCJJG",
        "outputId": "c7da2a93-61d1-464a-e2d0-eb80c00c329d"
      },
      "source": [
        "# 1\n",
        "\n",
        "arr = [1, 2, 3, 4, 5]\n",
        "\n",
        "print(arr[0])\n",
        "print(arr[1])"
      ],
      "execution_count": null,
      "outputs": [
        {
          "output_type": "stream",
          "name": "stdout",
          "text": [
            "1\n",
            "2\n"
          ]
        }
      ]
    },
    {
      "cell_type": "code",
      "metadata": {
        "colab": {
          "base_uri": "https://localhost:8080/"
        },
        "id": "LCgmhC-qD0p2",
        "outputId": "db331087-623a-4b23-9e39-d77f0768f814"
      },
      "source": [
        "# 2\n",
        "\n",
        "print(arr[2])\n",
        "for number in arr:\n",
        "  print(number)\n",
        "print(arr[1])\n",
        "print(arr[2])"
      ],
      "execution_count": null,
      "outputs": [
        {
          "output_type": "stream",
          "name": "stdout",
          "text": [
            "3\n",
            "1\n",
            "2\n",
            "3\n",
            "4\n",
            "5\n",
            "2\n",
            "3\n"
          ]
        }
      ]
    },
    {
      "cell_type": "code",
      "metadata": {
        "colab": {
          "base_uri": "https://localhost:8080/"
        },
        "id": "w5Upv3LdECFO",
        "outputId": "0e9ad471-25eb-40c3-c3e3-94596cf76fcc"
      },
      "source": [
        "# 3\n",
        "\n",
        "arr2 = [6, 7, 8, 9, 10]\n",
        "\n",
        "for number in arr:\n",
        "  print(number)\n",
        "for number in arr2:\n",
        "  print(number)\n",
        "print(arr2[4])"
      ],
      "execution_count": null,
      "outputs": [
        {
          "output_type": "stream",
          "name": "stdout",
          "text": [
            "1\n",
            "2\n",
            "3\n",
            "4\n",
            "5\n",
            "6\n",
            "7\n",
            "8\n",
            "9\n",
            "10\n",
            "10\n"
          ]
        }
      ]
    },
    {
      "cell_type": "code",
      "metadata": {
        "colab": {
          "base_uri": "https://localhost:8080/"
        },
        "id": "yXtKHziAEghO",
        "outputId": "cd5dca77-6279-4a4d-c8f0-440c59caae51"
      },
      "source": [
        "# 4\n",
        "\n",
        "print(arr2[1])\n",
        "for number in arr:\n",
        "  print(number)\n",
        "for number in arr:\n",
        "  print(number)"
      ],
      "execution_count": null,
      "outputs": [
        {
          "output_type": "stream",
          "name": "stdout",
          "text": [
            "7\n",
            "1\n",
            "2\n",
            "3\n",
            "4\n",
            "5\n",
            "1\n",
            "2\n",
            "3\n",
            "4\n",
            "5\n"
          ]
        }
      ]
    },
    {
      "cell_type": "code",
      "metadata": {
        "colab": {
          "base_uri": "https://localhost:8080/"
        },
        "id": "9dXVL-S9EzxT",
        "outputId": "a45d5914-5a7c-4cee-fe82-35e615268938"
      },
      "source": [
        "# 5\n",
        "\n",
        "for number in arr:\n",
        "  for number2 in arr2:\n",
        "    print(number+number2)\n",
        "print(arr[1]+arr2[1])\n",
        "print(arr2[2])"
      ],
      "execution_count": null,
      "outputs": [
        {
          "output_type": "stream",
          "name": "stdout",
          "text": [
            "7\n",
            "8\n",
            "9\n",
            "10\n",
            "11\n",
            "8\n",
            "9\n",
            "10\n",
            "11\n",
            "12\n",
            "9\n",
            "10\n",
            "11\n",
            "12\n",
            "13\n",
            "10\n",
            "11\n",
            "12\n",
            "13\n",
            "14\n",
            "11\n",
            "12\n",
            "13\n",
            "14\n",
            "15\n",
            "9\n",
            "8\n"
          ]
        }
      ]
    },
    {
      "cell_type": "code",
      "metadata": {
        "colab": {
          "base_uri": "https://localhost:8080/"
        },
        "id": "6SC68I3PFFge",
        "outputId": "0d869648-4c9b-4ba5-ded2-6583ac051b41"
      },
      "source": [
        "# 6 \n",
        "\n",
        "for number in arr:\n",
        "  for number2 in arr:\n",
        "    print(number+number2)\n",
        "print(arr)"
      ],
      "execution_count": null,
      "outputs": [
        {
          "output_type": "stream",
          "name": "stdout",
          "text": [
            "2\n",
            "3\n",
            "4\n",
            "5\n",
            "6\n",
            "3\n",
            "4\n",
            "5\n",
            "6\n",
            "7\n",
            "4\n",
            "5\n",
            "6\n",
            "7\n",
            "8\n",
            "5\n",
            "6\n",
            "7\n",
            "8\n",
            "9\n",
            "6\n",
            "7\n",
            "8\n",
            "9\n",
            "10\n",
            "[1, 2, 3, 4, 5]\n"
          ]
        }
      ]
    },
    {
      "cell_type": "code",
      "metadata": {
        "colab": {
          "base_uri": "https://localhost:8080/"
        },
        "id": "b7w1_oXnGXfs",
        "outputId": "2c58d93f-8243-4261-acb2-7753d430ce4a"
      },
      "source": [
        "# 7 \n",
        "\n",
        "for number in arr:\n",
        "  for number2 in arr2:\n",
        "    for number3 in arr:\n",
        "      print(number+number2+number3)\n",
        "print(arr[1])\n",
        "print(arr2[2])\n",
        "print(arr2[3])\n"
      ],
      "execution_count": null,
      "outputs": [
        {
          "output_type": "stream",
          "name": "stdout",
          "text": [
            "8\n",
            "9\n",
            "10\n",
            "11\n",
            "12\n",
            "9\n",
            "10\n",
            "11\n",
            "12\n",
            "13\n",
            "10\n",
            "11\n",
            "12\n",
            "13\n",
            "14\n",
            "11\n",
            "12\n",
            "13\n",
            "14\n",
            "15\n",
            "12\n",
            "13\n",
            "14\n",
            "15\n",
            "16\n",
            "9\n",
            "10\n",
            "11\n",
            "12\n",
            "13\n",
            "10\n",
            "11\n",
            "12\n",
            "13\n",
            "14\n",
            "11\n",
            "12\n",
            "13\n",
            "14\n",
            "15\n",
            "12\n",
            "13\n",
            "14\n",
            "15\n",
            "16\n",
            "13\n",
            "14\n",
            "15\n",
            "16\n",
            "17\n",
            "10\n",
            "11\n",
            "12\n",
            "13\n",
            "14\n",
            "11\n",
            "12\n",
            "13\n",
            "14\n",
            "15\n",
            "12\n",
            "13\n",
            "14\n",
            "15\n",
            "16\n",
            "13\n",
            "14\n",
            "15\n",
            "16\n",
            "17\n",
            "14\n",
            "15\n",
            "16\n",
            "17\n",
            "18\n",
            "11\n",
            "12\n",
            "13\n",
            "14\n",
            "15\n",
            "12\n",
            "13\n",
            "14\n",
            "15\n",
            "16\n",
            "13\n",
            "14\n",
            "15\n",
            "16\n",
            "17\n",
            "14\n",
            "15\n",
            "16\n",
            "17\n",
            "18\n",
            "15\n",
            "16\n",
            "17\n",
            "18\n",
            "19\n",
            "12\n",
            "13\n",
            "14\n",
            "15\n",
            "16\n",
            "13\n",
            "14\n",
            "15\n",
            "16\n",
            "17\n",
            "14\n",
            "15\n",
            "16\n",
            "17\n",
            "18\n",
            "15\n",
            "16\n",
            "17\n",
            "18\n",
            "19\n",
            "16\n",
            "17\n",
            "18\n",
            "19\n",
            "20\n",
            "2\n",
            "8\n",
            "9\n"
          ]
        }
      ]
    },
    {
      "cell_type": "code",
      "metadata": {
        "colab": {
          "base_uri": "https://localhost:8080/"
        },
        "id": "Cm1Hcy3JG6sh",
        "outputId": "003cd643-7162-49d3-e1f0-88df9ba0f926"
      },
      "source": [
        "# 8\n",
        "\n",
        "for number in arr:\n",
        "  print(number)\n",
        "print(arr2)\n",
        "for number in arr:\n",
        "  for number2 in arr2:\n",
        "    print(number+number2)\n",
        "print(arr)"
      ],
      "execution_count": null,
      "outputs": [
        {
          "output_type": "stream",
          "name": "stdout",
          "text": [
            "1\n",
            "2\n",
            "3\n",
            "4\n",
            "5\n",
            "[6, 7, 8, 9, 10]\n",
            "7\n",
            "8\n",
            "9\n",
            "10\n",
            "11\n",
            "8\n",
            "9\n",
            "10\n",
            "11\n",
            "12\n",
            "9\n",
            "10\n",
            "11\n",
            "12\n",
            "13\n",
            "10\n",
            "11\n",
            "12\n",
            "13\n",
            "14\n",
            "11\n",
            "12\n",
            "13\n",
            "14\n",
            "15\n",
            "[1, 2, 3, 4, 5]\n"
          ]
        }
      ]
    },
    {
      "cell_type": "code",
      "metadata": {
        "id": "EgpO69yqHJ3K",
        "colab": {
          "base_uri": "https://localhost:8080/"
        },
        "outputId": "f2ce0307-c8c4-4e7c-8825-ef157a5f9f48"
      },
      "source": [
        "# 9 \n",
        "# algoritma bubble sort\n",
        "def a(x):\n",
        "  for i in range(len(x)-1, 0, -1):\n",
        "    for j in range(i):\n",
        "      if x[j] >x [j+1]:\n",
        "        temp = x[j]\n",
        "        x[j] = x[j+1]\n",
        "        x[j+1] = temp\n",
        "        arr2 = []\n",
        "        a(arr2)\n",
        "\n",
        "print(arr2)"
      ],
      "execution_count": null,
      "outputs": [
        {
          "output_type": "stream",
          "name": "stdout",
          "text": [
            "[6, 7, 8, 9, 10]\n"
          ]
        }
      ]
    },
    {
      "cell_type": "code",
      "metadata": {
        "id": "qD9VauTyG_RJ",
        "colab": {
          "base_uri": "https://localhost:8080/"
        },
        "outputId": "5b59c4aa-8e3f-4b82-ff4e-b1137dca0f08"
      },
      "source": [
        "# 10\n",
        "\n",
        "# algoritma linear search\n",
        "def linear_search(list, arr):\n",
        "\n",
        "    for index in range(1, len(list)):\n",
        "      if (list[index] == arr):\n",
        "        print(\"Nilai ditemukan\")\n",
        "        return index\n",
        "      else:\n",
        "        return \"Nilai tidak ditemukan\"\n",
        "\n",
        "list = [1,2,3,4,5]\n",
        "\n",
        "linear_search(list, 2)"
      ],
      "execution_count": null,
      "outputs": [
        {
          "output_type": "stream",
          "name": "stdout",
          "text": [
            "Nilai ditemukan\n"
          ]
        },
        {
          "output_type": "execute_result",
          "data": {
            "text/plain": [
              "1"
            ]
          },
          "metadata": {},
          "execution_count": 39
        }
      ]
    },
    {
      "cell_type": "code",
      "metadata": {
        "id": "OaKrQWZJH28k",
        "colab": {
          "base_uri": "https://localhost:8080/"
        },
        "outputId": "78be7aa6-b628-4233-9701-181fe9e94b08"
      },
      "source": [
        "# 11\n",
        "\n",
        "# algoritma binary search\n",
        "def binary_search(list, arr):\n",
        "  left = 0 \n",
        "  right = len(list)-1\n",
        "  matched = False\n",
        "  while(left <= right and not matched):\n",
        "\n",
        "    mid = (left + right)//2\n",
        "    if list[mid] == arr:\n",
        "      matched = True\n",
        "    else: \n",
        "      if arr < list[mid]:\n",
        "        right = mid - 1\n",
        "      else:\n",
        "        left = mid + 1\n",
        "  return matched\n",
        "\n",
        "print(binary_search([1,2,3,4,5], 9))\n",
        "print(binary_search([1,2,3,4,5], 1))\n",
        "\n"
      ],
      "execution_count": null,
      "outputs": [
        {
          "output_type": "stream",
          "name": "stdout",
          "text": [
            "False\n",
            "True\n"
          ]
        }
      ]
    },
    {
      "cell_type": "markdown",
      "metadata": {
        "id": "jnWbKwkPSFhc"
      },
      "source": [
        "# **Fungsi**"
      ]
    },
    {
      "cell_type": "code",
      "metadata": {
        "colab": {
          "base_uri": "https://localhost:8080/"
        },
        "id": "oEnpQAFUSK9j",
        "outputId": "3659a1e8-a86b-4791-f742-6d83701de57e"
      },
      "source": [
        "# Deklarasi Fungsi\n",
        "def cetak(y):\n",
        "  print(y)\n",
        "\n",
        "cetak(\"Oke Siap\")"
      ],
      "execution_count": null,
      "outputs": [
        {
          "output_type": "stream",
          "name": "stdout",
          "text": [
            "Oke Siap\n"
          ]
        }
      ]
    },
    {
      "cell_type": "code",
      "metadata": {
        "colab": {
          "base_uri": "https://localhost:8080/"
        },
        "id": "z22xvX_dStPK",
        "outputId": "09d80cde-cefb-4d81-9f1c-c7312a33559d"
      },
      "source": [
        "# Deklarasi Fungsi dengan pengembalian\n",
        "def tambah(x, y):\n",
        "  return x + y;\n",
        "\n",
        "print(tambah(4, 5))"
      ],
      "execution_count": null,
      "outputs": [
        {
          "output_type": "stream",
          "name": "stdout",
          "text": [
            "9\n"
          ]
        }
      ]
    },
    {
      "cell_type": "code",
      "metadata": {
        "id": "jSt_Ivt9TFAn"
      },
      "source": [
        "#\n",
        "def nama_fungsi(arg1, arg2):\n",
        "\n",
        "  def fungsi_dengan_pengembalian(arg1, arg2):\n",
        "    return 'sesuatu'"
      ],
      "execution_count": null,
      "outputs": []
    },
    {
      "cell_type": "markdown",
      "metadata": {
        "id": "XMyeTSkaT4YD"
      },
      "source": [
        "# **OOP**"
      ]
    },
    {
      "cell_type": "markdown",
      "metadata": {
        "id": "PfFqBZCeUXpk"
      },
      "source": [
        "## **Encapsulation**"
      ]
    },
    {
      "cell_type": "code",
      "metadata": {
        "colab": {
          "base_uri": "https://localhost:8080/"
        },
        "id": "DpPLOWA_T9zV",
        "outputId": "60f68647-3bbd-4c75-b67f-066d80aa1c78"
      },
      "source": [
        "merek = 'Lenovo'\n",
        "tipe = 'Ideapad 310'\n",
        "warna = 'Merah'\n",
        "jumlah = 1\n",
        "\n",
        "def mengetik():\n",
        "  print(\"Ini adalah spesifikasi laptopku : \")\n",
        "\n",
        "def info_laptop(merek, tipe, warna, jumlah):\n",
        "  print(f\"Merek : {merek}, Tipe : {tipe}, Warna : {warna}, Jumlah : {jumlah}\" )\n",
        "\n",
        "info_laptop(merek, tipe, warna, jumlah) \n",
        "\n",
        "class laptop:\n",
        "  def __init__(self, merek, tipe, warna, jumlah):\n",
        "    self.merek = merek\n",
        "    self.tipe = tipe\n",
        "    self.warna = warna\n",
        "    self.jumlah = jumlah\n",
        "\n",
        "  def mylaptop(self):\n",
        "    print(\"Brand laptop yang paling saya suka adalah : \" + self.Merek)\n",
        "\n",
        "  def mengetik(self):\n",
        "    print(\"Ini adalah spesifikasi laptopku : \")\n",
        "\n",
        "  def info(self):\n",
        "    print(f\"Merek : {merek}, Tipe : {tipe}, Warna : {warna}, Jumlah : {jumlah}\")\n",
        "\n",
        "laptop1 = laptop('Lenovo', 'Idepada 310', 'Merah', 1)\n",
        "\n",
        "laptop1.info()\n"
      ],
      "execution_count": null,
      "outputs": [
        {
          "output_type": "stream",
          "name": "stdout",
          "text": [
            "Merek : Lenovo, Tipe : Ideapad 310, Warna : Merah, Jumlah : 1\n",
            "Merek : Lenovo, Tipe : Ideapad 310, Warna : Merah, Jumlah : 1\n"
          ]
        }
      ]
    },
    {
      "cell_type": "markdown",
      "metadata": {
        "id": "rrRrJFk6ZunZ"
      },
      "source": [
        "## **Abstraction**"
      ]
    },
    {
      "cell_type": "code",
      "metadata": {
        "colab": {
          "base_uri": "https://localhost:8080/"
        },
        "id": "Li7d2H9bZ1dB",
        "outputId": "6639ccc7-f3c9-4a2b-b980-81f1801ddd54"
      },
      "source": [
        "laptop1.mylaptop()"
      ],
      "execution_count": null,
      "outputs": [
        {
          "output_type": "stream",
          "name": "stdout",
          "text": [
            "Brand laptop yang paling saya suka adalah : Lenovo\n"
          ]
        }
      ]
    },
    {
      "cell_type": "markdown",
      "metadata": {
        "id": "b61nC_DYbE7c"
      },
      "source": [
        "## **Inheritence**"
      ]
    },
    {
      "cell_type": "code",
      "metadata": {
        "colab": {
          "base_uri": "https://localhost:8080/"
        },
        "id": "GbPiRyj-bL3i",
        "outputId": "72146ced-f61d-434c-c14c-49c90a3741b2"
      },
      "source": [
        "class Benda(object):\n",
        "  def __init__(self, merek, tipe, jumlah, kualitas):\n",
        "    self.merek = merek\n",
        "    self.tipe = tipe\n",
        "    self.jumlah = jumlah\n",
        "    self.kualitas = kualitas\n",
        "\n",
        "  def update(self, software):\n",
        "    for x in range(software):\n",
        "      print(\"Penting untuk selalu perbaharui software\")\n",
        "\n",
        "  def info(self):\n",
        "    print(f\"Merek : {self.merek}, Tipe : {self.tipe}, Jumlah : {self.jumlah}, Kualitas : {self.kualitas}\")\n",
        "\n",
        "Barang = Benda(\"Lenovo\", \"Ideapad 310\", 1, \"Seken\")\n",
        "\n",
        "Barang.info()\n",
        "\n",
        "class Laptop(Benda):\n",
        "  def __init__(self, merek, tipe, jumlah, kualitas, warna):\n",
        "    super().__init__(merek, tipe, jumlah, kualitas)\n",
        "    self.warna = warna\n",
        "\n",
        "  def mengetik():\n",
        "    print(\"Ini adalah spesifikasi laptopku : \")\n",
        "\n",
        "  def info_laptop(self):\n",
        "    print(f\"Warna : {self.warna}\")\n",
        "\n",
        "laptop2 = Laptop(\"Lenovo\", \"Ideapad 310\", 1, \"Seken\", \"Merah\")\n",
        "\n",
        "laptop2.info()\n",
        "laptop2.info_laptop()\n"
      ],
      "execution_count": null,
      "outputs": [
        {
          "output_type": "stream",
          "name": "stdout",
          "text": [
            "Merek : Lenovo, Tipe : Ideapad 310, Jumlah : 1, Kualitas : Seken\n",
            "Merek : Lenovo, Tipe : Ideapad 310, Jumlah : 1, Kualitas : Seken\n",
            "Warna : Merah\n"
          ]
        }
      ]
    },
    {
      "cell_type": "markdown",
      "metadata": {
        "id": "uFqTE508meLL"
      },
      "source": [
        "## **Polymorphism**"
      ]
    },
    {
      "cell_type": "code",
      "metadata": {
        "colab": {
          "base_uri": "https://localhost:8080/"
        },
        "id": "1l0sRCiEmkXg",
        "outputId": "d56c90b8-5f5d-4408-d83d-bdc34fd9853b"
      },
      "source": [
        "class Smartphone(Benda):\n",
        "  def __init__(self, merek, tipe, jumlah, kualitas, warna, ram_rom, harga_baru):\n",
        "    super().__init__(merek, tipe, jumlah, kualitas)\n",
        "    self.warna = warna\n",
        "    self.ram_rom = ram_rom\n",
        "    self.harga_baru = harga_baru\n",
        "\n",
        "  def test(self, kondisi):\n",
        "    print(\"Barang masih mulus tanpa cacat\")\n",
        "\n",
        "  def info_smartphone(self):\n",
        "    print(f\"Warna : {self.warna}, Kapasitas penyimpanan : {self.ram_rom}, Harga : {self.harga_baru}\")\n",
        "\n",
        "android = Smartphone(\"Xiaomi\", \"Redmi Note 10\", 1, \"BNIB\", \"Hitam\", \"4/64 GB\", \"2 juta\")\n",
        "\n",
        "android.info()\n",
        "android.info_smartphone()\n",
        "android.test(0)\n",
        "android.update(3)"
      ],
      "execution_count": null,
      "outputs": [
        {
          "output_type": "stream",
          "name": "stdout",
          "text": [
            "Merek : Xiaomi, Tipe : Redmi Note 10, Jumlah : 1, Kualitas : BNIB\n",
            "Warna : Hitam, Kapasitas penyimpanan : 4/64 GB, Harga : 2 juta\n",
            "Barang masih mulus tanpa cacat\n",
            "Penting untuk selalu perbaharui software\n",
            "Penting untuk selalu perbaharui software\n",
            "Penting untuk selalu perbaharui software\n"
          ]
        }
      ]
    },
    {
      "cell_type": "code",
      "metadata": {
        "id": "VHT4EkFLtzA4"
      },
      "source": [
        ""
      ],
      "execution_count": null,
      "outputs": []
    },
    {
      "cell_type": "markdown",
      "metadata": {
        "id": "gy39e6CXvKJ5"
      },
      "source": [
        "# **Complexity**"
      ]
    },
    {
      "cell_type": "code",
      "metadata": {
        "id": "TzJ1aLTNvbw8",
        "colab": {
          "base_uri": "https://localhost:8080/"
        },
        "outputId": "67284a0c-cbab-4c1d-ecba-15ce1e61e9e8"
      },
      "source": [
        "# 9 \n",
        "# algoritma bubble sort\n",
        "def a(x):\n",
        "  for i in range(len(x)-1, 0, -1):\n",
        "    for j in range(i):\n",
        "      if x[j] >x [j+1]:\n",
        "        temp = x[j]\n",
        "        x[j] = x[j+1]\n",
        "        x[j+1] = temp\n",
        "        arr2 = []\n",
        "        a(arr2)\n",
        "\n",
        "print(arr2)"
      ],
      "execution_count": null,
      "outputs": [
        {
          "output_type": "stream",
          "name": "stdout",
          "text": [
            "[6, 7, 8, 9, 10]\n"
          ]
        }
      ]
    },
    {
      "cell_type": "code",
      "metadata": {
        "colab": {
          "base_uri": "https://localhost:8080/"
        },
        "id": "TRSFX4Srs6PE",
        "outputId": "877614e6-f417-44a4-93e3-b2abde64c5f1"
      },
      "source": [
        "# 10\n",
        "\n",
        "# algoritma linear search\n",
        "def linear_search(list, arr):\n",
        "\n",
        "    for index in range(1, len(list)):\n",
        "      if (list[index] == arr):\n",
        "        print(\"Nilai ditemukan\")\n",
        "        return index\n",
        "      else:\n",
        "        return \"Nilai tidak ditemukan\"\n",
        "\n",
        "list = [1,2,3,4,5]\n",
        "\n",
        "linear_search(list, 2)"
      ],
      "execution_count": null,
      "outputs": [
        {
          "output_type": "stream",
          "name": "stdout",
          "text": [
            "Nilai ditemukan\n"
          ]
        },
        {
          "output_type": "execute_result",
          "data": {
            "text/plain": [
              "1"
            ]
          },
          "metadata": {},
          "execution_count": 61
        }
      ]
    },
    {
      "cell_type": "code",
      "metadata": {
        "colab": {
          "base_uri": "https://localhost:8080/"
        },
        "id": "eEi3Z-Uzs9aJ",
        "outputId": "3a643c90-b379-48ab-edf4-f76851a4bde9"
      },
      "source": [
        "# 11\n",
        "\n",
        "# algoritma binary search\n",
        "def binary_search(list, arr):\n",
        "  left = 0 \n",
        "  right = len(list)-1\n",
        "  matched = False\n",
        "  while(left <= right and not matched):\n",
        "\n",
        "    mid = (left + right)//2\n",
        "    if list[mid] == arr:\n",
        "      matched = True\n",
        "    else: \n",
        "      if arr < list[mid]:\n",
        "        right = mid - 1\n",
        "      else:\n",
        "        left = mid + 1\n",
        "  return matched\n",
        "\n",
        "print(binary_search([1,2,3,4,5], 9))\n",
        "print(binary_search([1,2,3,4,5], 1))\n"
      ],
      "execution_count": null,
      "outputs": [
        {
          "output_type": "stream",
          "name": "stdout",
          "text": [
            "False\n",
            "True\n"
          ]
        }
      ]
    }
  ]
}